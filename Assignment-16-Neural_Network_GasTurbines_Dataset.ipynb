{
 "cells": [
  {
   "cell_type": "markdown",
   "metadata": {},
   "source": [
    "#  Assignment-16-Neural_Network_GasTurbines_Dataset"
   ]
  },
  {
   "cell_type": "markdown",
   "metadata": {},
   "source": [
    "The dataset contains 36733 instances of 11 sensor measures aggregated over one hour (by means of average or sum) from a gas turbine. <br/>\n",
    "The Dataset includes gas turbine parameters (such as Turbine Inlet Temperature and Compressor Discharge pressure) in addition to the ambient variables.<br/>\n",
    "<br/>\n",
    "<br/>\n",
    "Problem statement: predicting turbine energy yield (TEY) using ambient variables as features.<br/>\n",
    "<br/>\n",
    "<br/>\n",
    "Attribute Information:<br/>\n",
    "\n",
    "The explanations of sensor measurements and their brief statistics are given below.<br/>\n",
    "\n",
    "Variable (Abbr.) Unit Min Max Mean<br/>\n",
    "Ambient temperature (AT) C â€“6.23 37.10 17.71<br/>\n",
    "Ambient pressure (AP) mbar 985.85 1036.56 1013.07<br/>\n",
    "Ambient humidity (AH) (%) 24.08 100.20 77.87<br/>\n",
    "Air filter difference pressure (AFDP) mbar 2.09 7.61 3.93<br/>\n",
    "Gas turbine exhaust pressure (GTEP) mbar 17.70 40.72 25.56<br/>\n",
    "Turbine inlet temperature (TIT) C 1000.85 1100.89 1081.43<br/>\n",
    "Turbine after temperature (TAT) C 511.04 550.61 546.16<br/>\n",
    "Compressor discharge pressure (CDP) mbar 9.85 15.16 12.06<br/>\n",
    "Turbine energy yield (TEY) MWH 100.02 179.50 133.51<br/>\n",
    "Carbon monoxide (CO) mg/m3 0.00 44.10 2.37<br/>\n",
    "Nitrogen oxides (NOx) mg/m3 25.90 119.91 65.29<br/>"
   ]
  },
  {
   "cell_type": "markdown",
   "metadata": {},
   "source": [
    "## Import Libraries"
   ]
  },
  {
   "cell_type": "code",
   "execution_count": 11,
   "metadata": {
    "ExecuteTime": {
     "end_time": "2021-11-20T11:48:58.898723Z",
     "start_time": "2021-11-20T11:48:58.881767Z"
    }
   },
   "outputs": [],
   "source": [
    "import pandas as pd\n",
    "import numpy as np\n",
    "from sklearn.model_selection import GridSearchCV, KFold\n",
    "from keras.models import Sequential\n",
    "from keras.layers import Dense\n",
    "from keras.wrappers.scikit_learn import KerasClassifier\n",
    "from keras.optimizers import Adam\n",
    "from keras.layers import Dropout"
   ]
  },
  {
   "cell_type": "markdown",
   "metadata": {},
   "source": [
    "## Import Dataset"
   ]
  },
  {
   "cell_type": "code",
   "execution_count": 12,
   "metadata": {
    "ExecuteTime": {
     "end_time": "2021-11-20T11:49:00.168565Z",
     "start_time": "2021-11-20T11:49:00.090690Z"
    }
   },
   "outputs": [
    {
     "data": {
      "text/html": [
       "<div>\n",
       "<style scoped>\n",
       "    .dataframe tbody tr th:only-of-type {\n",
       "        vertical-align: middle;\n",
       "    }\n",
       "\n",
       "    .dataframe tbody tr th {\n",
       "        vertical-align: top;\n",
       "    }\n",
       "\n",
       "    .dataframe thead th {\n",
       "        text-align: right;\n",
       "    }\n",
       "</style>\n",
       "<table border=\"1\" class=\"dataframe\">\n",
       "  <thead>\n",
       "    <tr style=\"text-align: right;\">\n",
       "      <th></th>\n",
       "      <th>AT</th>\n",
       "      <th>AP</th>\n",
       "      <th>AH</th>\n",
       "      <th>AFDP</th>\n",
       "      <th>GTEP</th>\n",
       "      <th>TIT</th>\n",
       "      <th>TAT</th>\n",
       "      <th>TEY</th>\n",
       "      <th>CDP</th>\n",
       "      <th>CO</th>\n",
       "      <th>NOX</th>\n",
       "    </tr>\n",
       "  </thead>\n",
       "  <tbody>\n",
       "    <tr>\n",
       "      <th>0</th>\n",
       "      <td>6.8594</td>\n",
       "      <td>1007.9</td>\n",
       "      <td>96.799</td>\n",
       "      <td>3.5000</td>\n",
       "      <td>19.663</td>\n",
       "      <td>1059.2</td>\n",
       "      <td>550.00</td>\n",
       "      <td>114.70</td>\n",
       "      <td>10.605</td>\n",
       "      <td>3.1547</td>\n",
       "      <td>82.722</td>\n",
       "    </tr>\n",
       "    <tr>\n",
       "      <th>1</th>\n",
       "      <td>6.7850</td>\n",
       "      <td>1008.4</td>\n",
       "      <td>97.118</td>\n",
       "      <td>3.4998</td>\n",
       "      <td>19.728</td>\n",
       "      <td>1059.3</td>\n",
       "      <td>550.00</td>\n",
       "      <td>114.72</td>\n",
       "      <td>10.598</td>\n",
       "      <td>3.2363</td>\n",
       "      <td>82.776</td>\n",
       "    </tr>\n",
       "    <tr>\n",
       "      <th>2</th>\n",
       "      <td>6.8977</td>\n",
       "      <td>1008.8</td>\n",
       "      <td>95.939</td>\n",
       "      <td>3.4824</td>\n",
       "      <td>19.779</td>\n",
       "      <td>1059.4</td>\n",
       "      <td>549.87</td>\n",
       "      <td>114.71</td>\n",
       "      <td>10.601</td>\n",
       "      <td>3.2012</td>\n",
       "      <td>82.468</td>\n",
       "    </tr>\n",
       "    <tr>\n",
       "      <th>3</th>\n",
       "      <td>7.0569</td>\n",
       "      <td>1009.2</td>\n",
       "      <td>95.249</td>\n",
       "      <td>3.4805</td>\n",
       "      <td>19.792</td>\n",
       "      <td>1059.6</td>\n",
       "      <td>549.99</td>\n",
       "      <td>114.72</td>\n",
       "      <td>10.606</td>\n",
       "      <td>3.1923</td>\n",
       "      <td>82.670</td>\n",
       "    </tr>\n",
       "    <tr>\n",
       "      <th>4</th>\n",
       "      <td>7.3978</td>\n",
       "      <td>1009.7</td>\n",
       "      <td>95.150</td>\n",
       "      <td>3.4976</td>\n",
       "      <td>19.765</td>\n",
       "      <td>1059.7</td>\n",
       "      <td>549.98</td>\n",
       "      <td>114.72</td>\n",
       "      <td>10.612</td>\n",
       "      <td>3.2484</td>\n",
       "      <td>82.311</td>\n",
       "    </tr>\n",
       "  </tbody>\n",
       "</table>\n",
       "</div>"
      ],
      "text/plain": [
       "       AT      AP      AH    AFDP    GTEP     TIT     TAT     TEY     CDP  \\\n",
       "0  6.8594  1007.9  96.799  3.5000  19.663  1059.2  550.00  114.70  10.605   \n",
       "1  6.7850  1008.4  97.118  3.4998  19.728  1059.3  550.00  114.72  10.598   \n",
       "2  6.8977  1008.8  95.939  3.4824  19.779  1059.4  549.87  114.71  10.601   \n",
       "3  7.0569  1009.2  95.249  3.4805  19.792  1059.6  549.99  114.72  10.606   \n",
       "4  7.3978  1009.7  95.150  3.4976  19.765  1059.7  549.98  114.72  10.612   \n",
       "\n",
       "       CO     NOX  \n",
       "0  3.1547  82.722  \n",
       "1  3.2363  82.776  \n",
       "2  3.2012  82.468  \n",
       "3  3.1923  82.670  \n",
       "4  3.2484  82.311  "
      ]
     },
     "execution_count": 12,
     "metadata": {},
     "output_type": "execute_result"
    }
   ],
   "source": [
    "df=pd.read_csv(\"gas_turbines.csv\")\n",
    "df.head()"
   ]
  },
  {
   "cell_type": "markdown",
   "metadata": {},
   "source": [
    "## EDA"
   ]
  },
  {
   "cell_type": "code",
   "execution_count": 13,
   "metadata": {
    "ExecuteTime": {
     "end_time": "2021-11-20T11:49:01.559277Z",
     "start_time": "2021-11-20T11:49:01.540324Z"
    }
   },
   "outputs": [
    {
     "data": {
      "text/plain": [
       "AT      float64\n",
       "AP      float64\n",
       "AH      float64\n",
       "AFDP    float64\n",
       "GTEP    float64\n",
       "TIT     float64\n",
       "TAT     float64\n",
       "TEY     float64\n",
       "CDP     float64\n",
       "CO      float64\n",
       "NOX     float64\n",
       "dtype: object"
      ]
     },
     "execution_count": 13,
     "metadata": {},
     "output_type": "execute_result"
    }
   ],
   "source": [
    "df.dtypes"
   ]
  },
  {
   "cell_type": "code",
   "execution_count": 14,
   "metadata": {
    "ExecuteTime": {
     "end_time": "2021-11-20T11:49:02.171761Z",
     "start_time": "2021-11-20T11:49:02.144832Z"
    }
   },
   "outputs": [
    {
     "data": {
      "text/plain": [
       "AT      0\n",
       "AP      0\n",
       "AH      0\n",
       "AFDP    0\n",
       "GTEP    0\n",
       "TIT     0\n",
       "TAT     0\n",
       "TEY     0\n",
       "CDP     0\n",
       "CO      0\n",
       "NOX     0\n",
       "dtype: int64"
      ]
     },
     "execution_count": 14,
     "metadata": {},
     "output_type": "execute_result"
    }
   ],
   "source": [
    "df.isnull().sum()"
   ]
  },
  {
   "cell_type": "code",
   "execution_count": 15,
   "metadata": {
    "ExecuteTime": {
     "end_time": "2021-11-20T11:49:02.685754Z",
     "start_time": "2021-11-20T11:49:02.673787Z"
    }
   },
   "outputs": [
    {
     "data": {
      "text/plain": [
       "(15039, 11)"
      ]
     },
     "execution_count": 15,
     "metadata": {},
     "output_type": "execute_result"
    }
   ],
   "source": [
    "df.shape"
   ]
  },
  {
   "cell_type": "markdown",
   "metadata": {},
   "source": [
    "## Visualization"
   ]
  },
  {
   "cell_type": "code",
   "execution_count": 16,
   "metadata": {
    "ExecuteTime": {
     "end_time": "2021-11-20T11:49:07.192943Z",
     "start_time": "2021-11-20T11:49:03.951976Z"
    }
   },
   "outputs": [
    {
     "data": {
      "image/png": "[encoded data removed]",
      "text/plain": [
       "<Figure size 1080x1440 with 2 Axes>"
      ]
     },
     "metadata": {
      "needs_background": "light"
     },
     "output_type": "display_data"
    }
   ],
   "source": [
    "#Visualization:\n",
    "import matplotlib.pyplot as plt\n",
    "%matplotlib inline\n",
    "import seaborn as sns\n",
    "corrmat = df.corr()\n",
    "top_corr_features = corrmat.index\n",
    "plt.figure(figsize=(15,20))\n",
    "#Plot Heat Map\n",
    "g=sns.heatmap(df[top_corr_features].corr(), annot=True, cmap='RdYlGn')"
   ]
  },
  {
   "cell_type": "code",
   "execution_count": 17,
   "metadata": {
    "ExecuteTime": {
     "end_time": "2021-11-20T11:49:07.350523Z",
     "start_time": "2021-11-20T11:49:07.322597Z"
    }
   },
   "outputs": [
    {
     "data": {
      "text/plain": [
       "array([[   6.8594, 1007.9   ,   96.799 , ...,   10.605 ,    3.1547,\n",
       "          82.722 ],\n",
       "       [   6.785 , 1008.4   ,   97.118 , ...,   10.598 ,    3.2363,\n",
       "          82.776 ],\n",
       "       [   6.8977, 1008.8   ,   95.939 , ...,   10.601 ,    3.2012,\n",
       "          82.468 ],\n",
       "       ...,\n",
       "       [   7.2647, 1006.3   ,   99.496 , ...,   10.483 ,    7.9632,\n",
       "          90.912 ],\n",
       "       [   7.006 , 1006.8   ,   99.008 , ...,   10.533 ,    6.2494,\n",
       "          93.227 ],\n",
       "       [   6.9279, 1007.2   ,   97.533 , ...,   10.583 ,    4.9816,\n",
       "          92.498 ]])"
      ]
     },
     "execution_count": 17,
     "metadata": {},
     "output_type": "execute_result"
    }
   ],
   "source": [
    "gs=df.values\n",
    "gs"
   ]
  },
  {
   "cell_type": "code",
   "execution_count": 18,
   "metadata": {
    "ExecuteTime": {
     "end_time": "2021-11-20T11:49:07.931686Z",
     "start_time": "2021-11-20T11:49:07.915697Z"
    }
   },
   "outputs": [],
   "source": [
    "# split into input (X) and output (Y) variables\n",
    "X=gs[:,[0,1,2,3,4,5,6,8,9,10]]\n",
    "Y=gs[:,-4]\n"
   ]
  },
  {
   "cell_type": "code",
   "execution_count": 21,
   "metadata": {
    "ExecuteTime": {
     "end_time": "2021-11-20T11:49:30.510190Z",
     "start_time": "2021-11-20T11:49:30.491888Z"
    }
   },
   "outputs": [
    {
     "data": {
      "text/plain": [
       "array([[   6.8594, 1007.9   ,   96.799 , ...,   10.605 ,    3.1547,\n",
       "          82.722 ],\n",
       "       [   6.785 , 1008.4   ,   97.118 , ...,   10.598 ,    3.2363,\n",
       "          82.776 ],\n",
       "       [   6.8977, 1008.8   ,   95.939 , ...,   10.601 ,    3.2012,\n",
       "          82.468 ],\n",
       "       ...,\n",
       "       [   7.2647, 1006.3   ,   99.496 , ...,   10.483 ,    7.9632,\n",
       "          90.912 ],\n",
       "       [   7.006 , 1006.8   ,   99.008 , ...,   10.533 ,    6.2494,\n",
       "          93.227 ],\n",
       "       [   6.9279, 1007.2   ,   97.533 , ...,   10.583 ,    4.9816,\n",
       "          92.498 ]])"
      ]
     },
     "execution_count": 21,
     "metadata": {},
     "output_type": "execute_result"
    }
   ],
   "source": [
    "X"
   ]
  },
  {
   "cell_type": "code",
   "execution_count": 22,
   "metadata": {
    "ExecuteTime": {
     "end_time": "2021-11-20T11:49:37.961203Z",
     "start_time": "2021-11-20T11:49:37.949236Z"
    }
   },
   "outputs": [
    {
     "data": {
      "text/plain": [
       "array([114.7 , 114.72, 114.71, ..., 110.19, 110.74, 111.58])"
      ]
     },
     "execution_count": 22,
     "metadata": {},
     "output_type": "execute_result"
    }
   ],
   "source": [
    "Y"
   ]
  },
  {
   "cell_type": "markdown",
   "metadata": {},
   "source": [
    "## Splitting data n test and train set"
   ]
  },
  {
   "cell_type": "code",
   "execution_count": 23,
   "metadata": {
    "ExecuteTime": {
     "end_time": "2021-11-20T11:49:39.146779Z",
     "start_time": "2021-11-20T11:49:39.136806Z"
    }
   },
   "outputs": [],
   "source": [
    "from sklearn.model_selection import train_test_split"
   ]
  },
  {
   "cell_type": "code",
   "execution_count": 24,
   "metadata": {
    "ExecuteTime": {
     "end_time": "2021-11-20T11:49:39.870154Z",
     "start_time": "2021-11-20T11:49:39.638898Z"
    }
   },
   "outputs": [],
   "source": [
    "x_train, x_test, y_train, y_test = train_test_split(X,Y,test_size=0.25,random_state=101)"
   ]
  },
  {
   "cell_type": "markdown",
   "metadata": {},
   "source": [
    "## Standardization\n"
   ]
  },
  {
   "cell_type": "code",
   "execution_count": 25,
   "metadata": {
    "ExecuteTime": {
     "end_time": "2021-11-20T11:49:40.718472Z",
     "start_time": "2021-11-20T11:49:40.632699Z"
    }
   },
   "outputs": [
    {
     "data": {
      "text/plain": [
       "MinMaxScaler()"
      ]
     },
     "execution_count": 25,
     "metadata": {},
     "output_type": "execute_result"
    }
   ],
   "source": [
    "from sklearn.preprocessing import MinMaxScaler\n",
    "scaler=MinMaxScaler()\n",
    "scaler.fit(x_train)"
   ]
  },
  {
   "cell_type": "code",
   "execution_count": 26,
   "metadata": {
    "ExecuteTime": {
     "end_time": "2021-11-20T11:49:41.313504Z",
     "start_time": "2021-11-20T11:49:41.290603Z"
    }
   },
   "outputs": [
    {
     "data": {
      "text/plain": [
       "array([[0.35890393, 0.40602285, 0.91801706, ..., 0.34107329, 0.03084967,\n",
       "        0.48475958],\n",
       "       [0.55162803, 0.59086189, 0.72785444, ..., 0.42819611, 0.02833486,\n",
       "        0.43366477],\n",
       "       [0.69430373, 0.53478712, 0.55215014, ..., 0.14847583, 0.15186537,\n",
       "        0.33822331],\n",
       "       ...,\n",
       "       [0.29923532, 0.48494289, 0.94876603, ..., 0.77514199, 0.00101504,\n",
       "        0.41400706],\n",
       "       [0.64399376, 0.35825545, 0.50904718, ..., 0.04705791, 0.10100297,\n",
       "        0.36756316],\n",
       "       [0.3486443 , 0.24340602, 0.81637941, ..., 0.34416412, 0.00787964,\n",
       "        0.54170062]])"
      ]
     },
     "execution_count": 26,
     "metadata": {},
     "output_type": "execute_result"
    }
   ],
   "source": [
    "x_train=scaler.transform(x_train)\n",
    "x_test=scaler.transform(x_test)\n",
    "x_test"
   ]
  },
  {
   "cell_type": "markdown",
   "metadata": {},
   "source": [
    "## Create model"
   ]
  },
  {
   "cell_type": "code",
   "execution_count": 27,
   "metadata": {
    "ExecuteTime": {
     "end_time": "2021-11-20T11:49:42.937466Z",
     "start_time": "2021-11-20T11:49:42.605650Z"
    }
   },
   "outputs": [],
   "source": [
    "model = Sequential()\n",
    "model.add(Dense(10, activation='relu'))\n",
    "model.add(Dense(10, activation='relu'))\n",
    "model.add(Dense(10, activation='relu'))\n",
    "# add nodes for prediction\n",
    "model.add(Dense(1))"
   ]
  },
  {
   "cell_type": "code",
   "execution_count": 28,
   "metadata": {
    "ExecuteTime": {
     "end_time": "2021-11-20T11:49:43.173437Z",
     "start_time": "2021-11-20T11:49:43.137534Z"
    }
   },
   "outputs": [],
   "source": [
    "model.compile(optimizer='rmsprop',loss='mse')"
   ]
  },
  {
   "cell_type": "code",
   "execution_count": 29,
   "metadata": {
    "ExecuteTime": {
     "end_time": "2021-11-20T11:53:24.142432Z",
     "start_time": "2021-11-20T11:49:43.995089Z"
    }
   },
   "outputs": [
    {
     "name": "stdout",
     "output_type": "stream",
     "text": [
      "Epoch 1/250\n",
      "353/353 [==============================] - 54s 2ms/step - loss: 16759.1262\n",
      "Epoch 2/250\n",
      "353/353 [==============================] - 1s 2ms/step - loss: 2271.1659\n",
      "Epoch 3/250\n",
      "353/353 [==============================] - 1s 2ms/step - loss: 34.7220\n",
      "Epoch 4/250\n",
      "353/353 [==============================] - 1s 2ms/step - loss: 21.7966\n",
      "Epoch 5/250\n",
      "353/353 [==============================] - 1s 2ms/step - loss: 19.0773: \n",
      "Epoch 6/250\n",
      "353/353 [==============================] - 1s 2ms/step - loss: 16.4850\n",
      "Epoch 7/250\n",
      "353/353 [==============================] - 1s 2ms/step - loss: 14.7054\n",
      "Epoch 8/250\n",
      "353/353 [==============================] - 1s 2ms/step - loss: 13.0171\n",
      "Epoch 9/250\n",
      "353/353 [==============================] - 1s 2ms/step - loss: 11.4346\n",
      "Epoch 10/250\n",
      "353/353 [==============================] - 1s 2ms/step - loss: 10.0854\n",
      "Epoch 11/250\n",
      "353/353 [==============================] - 1s 2ms/step - loss: 8.7648\n",
      "Epoch 12/250\n",
      "353/353 [==============================] - 1s 2ms/step - loss: 7.5569\n",
      "Epoch 13/250\n",
      "353/353 [==============================] - 1s 2ms/step - loss: 6.1997\n",
      "Epoch 14/250\n",
      "353/353 [==============================] - 1s 2ms/step - loss: 5.5157\n",
      "Epoch 15/250\n",
      "353/353 [==============================] - 1s 2ms/step - loss: 4.5557\n",
      "Epoch 16/250\n",
      "353/353 [==============================] - 1s 2ms/step - loss: 3.7314\n",
      "Epoch 17/250\n",
      "353/353 [==============================] - 1s 2ms/step - loss: 3.0883A: 0s - loss\n",
      "Epoch 18/250\n",
      "353/353 [==============================] - 1s 2ms/step - loss: 2.5562\n",
      "Epoch 19/250\n",
      "353/353 [==============================] - 1s 2ms/step - loss: 2.0386\n",
      "Epoch 20/250\n",
      "353/353 [==============================] - 1s 2ms/step - loss: 1.7226\n",
      "Epoch 21/250\n",
      "353/353 [==============================] - 1s 2ms/step - loss: 1.4538\n",
      "Epoch 22/250\n",
      "353/353 [==============================] - 1s 2ms/step - loss: 1.3074\n",
      "Epoch 23/250\n",
      "353/353 [==============================] - 1s 2ms/step - loss: 1.1759\n",
      "Epoch 24/250\n",
      "353/353 [==============================] - 1s 2ms/step - loss: 1.0542\n",
      "Epoch 25/250\n",
      "353/353 [==============================] - 1s 2ms/step - loss: 1.0157\n",
      "Epoch 26/250\n",
      "353/353 [==============================] - 1s 2ms/step - loss: 0.9831\n",
      "Epoch 27/250\n",
      "353/353 [==============================] - 1s 2ms/step - loss: 0.9568\n",
      "Epoch 28/250\n",
      "353/353 [==============================] - 1s 2ms/step - loss: 1.0183\n",
      "Epoch 29/250\n",
      "353/353 [==============================] - 1s 2ms/step - loss: 0.9268\n",
      "Epoch 30/250\n",
      "353/353 [==============================] - 1s 2ms/step - loss: 0.9394\n",
      "Epoch 31/250\n",
      "353/353 [==============================] - 1s 2ms/step - loss: 0.9202A: 1s -\n",
      "Epoch 32/250\n",
      "353/353 [==============================] - 1s 2ms/step - loss: 0.9059\n",
      "Epoch 33/250\n",
      "353/353 [==============================] - 1s 3ms/step - loss: 0.9349\n",
      "Epoch 34/250\n",
      "353/353 [==============================] - 1s 2ms/step - loss: 0.9105\n",
      "Epoch 35/250\n",
      "353/353 [==============================] - 1s 2ms/step - loss: 0.9212A: 0s - los\n",
      "Epoch 36/250\n",
      "353/353 [==============================] - 1s 2ms/step - loss: 0.8996\n",
      "Epoch 37/250\n",
      "353/353 [==============================] - 1s 2ms/step - loss: 0.9292\n",
      "Epoch 38/250\n",
      "353/353 [==============================] - 1s 2ms/step - loss: 0.8721\n",
      "Epoch 39/250\n",
      "353/353 [==============================] - 1s 2ms/step - loss: 0.9251\n",
      "Epoch 40/250\n",
      "353/353 [==============================] - 1s 2ms/step - loss: 0.8941\n",
      "Epoch 41/250\n",
      "353/353 [==============================] - 1s 2ms/step - loss: 0.9300A: 0s - lo\n",
      "Epoch 42/250\n",
      "353/353 [==============================] - 1s 2ms/step - loss: 0.9060\n",
      "Epoch 43/250\n",
      "353/353 [==============================] - 1s 3ms/step - loss: 0.9270\n",
      "Epoch 44/250\n",
      "353/353 [==============================] - 1s 2ms/step - loss: 0.8956\n",
      "Epoch 45/250\n",
      "353/353 [==============================] - 1s 2ms/step - loss: 0.9554\n",
      "Epoch 46/250\n",
      "353/353 [==============================] - 1s 2ms/step - loss: 0.9106\n",
      "Epoch 47/250\n",
      "353/353 [==============================] - 1s 2ms/step - loss: 0.9205\n",
      "Epoch 48/250\n",
      "353/353 [==============================] - 1s 2ms/step - loss: 0.8741A: 0s\n",
      "Epoch 49/250\n",
      "353/353 [==============================] - 1s 2ms/step - loss: 0.8963\n",
      "Epoch 50/250\n",
      "353/353 [==============================] - 1s 2ms/step - loss: 0.8840\n",
      "Epoch 51/250\n",
      "353/353 [==============================] - 1s 2ms/step - loss: 0.9217\n",
      "Epoch 52/250\n",
      "353/353 [==============================] - 1s 2ms/step - loss: 0.8862\n",
      "Epoch 53/250\n",
      "353/353 [==============================] - 1s 3ms/step - loss: 0.8668\n",
      "Epoch 54/250\n",
      "353/353 [==============================] - 1s 3ms/step - loss: 0.9208\n",
      "Epoch 55/250\n",
      "353/353 [==============================] - 1s 2ms/step - loss: 0.9090\n",
      "Epoch 56/250\n",
      "353/353 [==============================] - 1s 2ms/step - loss: 0.8873\n",
      "Epoch 57/250\n",
      "353/353 [==============================] - 1s 2ms/step - loss: 0.8759\n",
      "Epoch 58/250\n",
      "353/353 [==============================] - 1s 2ms/step - loss: 0.8951\n",
      "Epoch 59/250\n",
      "353/353 [==============================] - 1s 2ms/step - loss: 0.8947\n",
      "Epoch 60/250\n",
      "353/353 [==============================] - 1s 2ms/step - loss: 0.8920\n",
      "Epoch 61/250\n",
      "353/353 [==============================] - 1s 2ms/step - loss: 0.9305\n",
      "Epoch 62/250\n",
      "353/353 [==============================] - 1s 2ms/step - loss: 0.8961\n",
      "Epoch 63/250\n",
      "353/353 [==============================] - 1s 2ms/step - loss: 0.8806\n",
      "Epoch 64/250\n",
      "353/353 [==============================] - 1s 2ms/step - loss: 0.8996\n",
      "Epoch 65/250\n",
      "353/353 [==============================] - 1s 2ms/step - loss: 0.8847\n",
      "Epoch 66/250\n",
      "353/353 [==============================] - 1s 2ms/step - loss: 0.8682\n",
      "Epoch 67/250\n",
      "353/353 [==============================] - 1s 3ms/step - loss: 0.9075\n",
      "Epoch 68/250\n",
      "353/353 [==============================] - 1s 3ms/step - loss: 0.8756\n",
      "Epoch 69/250\n",
      "353/353 [==============================] - 1s 2ms/step - loss: 0.8784\n",
      "Epoch 70/250\n",
      "353/353 [==============================] - 1s 3ms/step - loss: 0.8689\n",
      "Epoch 71/250\n",
      "353/353 [==============================] - 1s 2ms/step - loss: 0.8710\n",
      "Epoch 72/250\n",
      "353/353 [==============================] - 1s 2ms/step - loss: 0.8593\n",
      "Epoch 73/250\n",
      "353/353 [==============================] - 1s 2ms/step - loss: 0.8642\n",
      "Epoch 74/250\n",
      "353/353 [==============================] - 1s 2ms/step - loss: 0.9012\n",
      "Epoch 75/250\n",
      "353/353 [==============================] - 1s 2ms/step - loss: 0.8549\n",
      "Epoch 76/250\n",
      "353/353 [==============================] - 1s 2ms/step - loss: 0.8854\n",
      "Epoch 77/250\n",
      "353/353 [==============================] - 1s 2ms/step - loss: 0.8643\n",
      "Epoch 78/250\n",
      "353/353 [==============================] - 1s 2ms/step - loss: 0.8781\n",
      "Epoch 79/250\n",
      "353/353 [==============================] - 1s 2ms/step - loss: 0.8770\n",
      "Epoch 80/250\n",
      "353/353 [==============================] - 1s 2ms/step - loss: 0.8751\n",
      "Epoch 81/250\n",
      "353/353 [==============================] - 1s 2ms/step - loss: 0.8683\n",
      "Epoch 82/250\n",
      "353/353 [==============================] - 1s 2ms/step - loss: 0.8787\n",
      "Epoch 83/250\n",
      "353/353 [==============================] - 1s 2ms/step - loss: 0.8874\n",
      "Epoch 84/250\n",
      "353/353 [==============================] - 1s 2ms/step - loss: 0.8669\n",
      "Epoch 85/250\n",
      "353/353 [==============================] - 1s 2ms/step - loss: 0.8423\n",
      "Epoch 86/250\n",
      "353/353 [==============================] - 1s 2ms/step - loss: 0.8368\n",
      "Epoch 87/250\n",
      "353/353 [==============================] - 1s 2ms/step - loss: 0.8700\n",
      "Epoch 88/250\n",
      "353/353 [==============================] - 1s 2ms/step - loss: 0.8560\n",
      "Epoch 89/250\n",
      "353/353 [==============================] - 1s 2ms/step - loss: 0.8696\n",
      "Epoch 90/250\n",
      "353/353 [==============================] - 1s 2ms/step - loss: 0.8495\n",
      "Epoch 91/250\n",
      "353/353 [==============================] - 1s 2ms/step - loss: 0.8363\n",
      "Epoch 92/250\n",
      "353/353 [==============================] - 1s 2ms/step - loss: 0.8475\n",
      "Epoch 93/250\n",
      "353/353 [==============================] - 1s 2ms/step - loss: 0.8498\n",
      "Epoch 94/250\n",
      "353/353 [==============================] - 1s 2ms/step - loss: 0.8498\n",
      "Epoch 95/250\n",
      "353/353 [==============================] - 1s 2ms/step - loss: 0.8693\n",
      "Epoch 96/250\n",
      "353/353 [==============================] - 1s 2ms/step - loss: 0.8958\n",
      "Epoch 97/250\n",
      "353/353 [==============================] - 1s 1ms/step - loss: 0.8650\n",
      "Epoch 98/250\n",
      "353/353 [==============================] - 0s 1ms/step - loss: 0.8406\n",
      "Epoch 99/250\n"
     ]
    },
    {
     "name": "stdout",
     "output_type": "stream",
     "text": [
      "353/353 [==============================] - 0s 1ms/step - loss: 0.8461\n",
      "Epoch 100/250\n",
      "353/353 [==============================] - 1s 2ms/step - loss: 0.8684\n",
      "Epoch 101/250\n",
      "353/353 [==============================] - 1s 2ms/step - loss: 0.8857\n",
      "Epoch 102/250\n",
      "353/353 [==============================] - 1s 2ms/step - loss: 0.8589\n",
      "Epoch 103/250\n",
      "353/353 [==============================] - 1s 2ms/step - loss: 0.8427\n",
      "Epoch 104/250\n",
      "353/353 [==============================] - 1s 2ms/step - loss: 0.8096\n",
      "Epoch 105/250\n",
      "353/353 [==============================] - 1s 2ms/step - loss: 0.8535\n",
      "Epoch 106/250\n",
      "353/353 [==============================] - 1s 2ms/step - loss: 0.8590\n",
      "Epoch 107/250\n",
      "353/353 [==============================] - 1s 3ms/step - loss: 0.8409\n",
      "Epoch 108/250\n",
      "353/353 [==============================] - 1s 3ms/step - loss: 0.8540\n",
      "Epoch 109/250\n",
      "353/353 [==============================] - 1s 2ms/step - loss: 0.8254\n",
      "Epoch 110/250\n",
      "353/353 [==============================] - 1s 2ms/step - loss: 0.8432\n",
      "Epoch 111/250\n",
      "353/353 [==============================] - 1s 2ms/step - loss: 0.8513A: 0s - l\n",
      "Epoch 112/250\n",
      "353/353 [==============================] - 1s 2ms/step - loss: 0.8330\n",
      "Epoch 113/250\n",
      "353/353 [==============================] - 1s 2ms/step - loss: 0.8337\n",
      "Epoch 114/250\n",
      "353/353 [==============================] - 1s 3ms/step - loss: 0.8273\n",
      "Epoch 115/250\n",
      "353/353 [==============================] - 1s 2ms/step - loss: 0.8197\n",
      "Epoch 116/250\n",
      "353/353 [==============================] - 1s 2ms/step - loss: 0.8158\n",
      "Epoch 117/250\n",
      "353/353 [==============================] - 1s 2ms/step - loss: 0.8297\n",
      "Epoch 118/250\n",
      "353/353 [==============================] - 1s 2ms/step - loss: 0.8541\n",
      "Epoch 119/250\n",
      "353/353 [==============================] - 1s 2ms/step - loss: 0.8594\n",
      "Epoch 120/250\n",
      "353/353 [==============================] - 1s 2ms/step - loss: 0.8406\n",
      "Epoch 121/250\n",
      "353/353 [==============================] - 1s 2ms/step - loss: 0.8635\n",
      "Epoch 122/250\n",
      "353/353 [==============================] - 1s 2ms/step - loss: 0.8927\n",
      "Epoch 123/250\n",
      "353/353 [==============================] - 1s 2ms/step - loss: 0.8333\n",
      "Epoch 124/250\n",
      "353/353 [==============================] - 1s 3ms/step - loss: 0.8398\n",
      "Epoch 125/250\n",
      "353/353 [==============================] - 1s 2ms/step - loss: 0.8387\n",
      "Epoch 126/250\n",
      "353/353 [==============================] - 1s 2ms/step - loss: 0.8424A: 0s - \n",
      "Epoch 127/250\n",
      "353/353 [==============================] - 1s 2ms/step - loss: 0.8275\n",
      "Epoch 128/250\n",
      "353/353 [==============================] - 1s 2ms/step - loss: 0.7984\n",
      "Epoch 129/250\n",
      "353/353 [==============================] - 1s 2ms/step - loss: 0.8083\n",
      "Epoch 130/250\n",
      "353/353 [==============================] - 1s 2ms/step - loss: 0.8084\n",
      "Epoch 131/250\n",
      "353/353 [==============================] - 1s 2ms/step - loss: 0.8347\n",
      "Epoch 132/250\n",
      "353/353 [==============================] - 1s 2ms/step - loss: 0.8172\n",
      "Epoch 133/250\n",
      "353/353 [==============================] - 1s 1ms/step - loss: 0.8322\n",
      "Epoch 134/250\n",
      "353/353 [==============================] - 1s 2ms/step - loss: 0.8571\n",
      "Epoch 135/250\n",
      "353/353 [==============================] - 0s 1ms/step - loss: 0.8433\n",
      "Epoch 136/250\n",
      "353/353 [==============================] - 1s 2ms/step - loss: 0.8480\n",
      "Epoch 137/250\n",
      "353/353 [==============================] - 1s 1ms/step - loss: 0.8278\n",
      "Epoch 138/250\n",
      "353/353 [==============================] - 1s 1ms/step - loss: 0.8249\n",
      "Epoch 139/250\n",
      "353/353 [==============================] - 1s 1ms/step - loss: 0.8399\n",
      "Epoch 140/250\n",
      "353/353 [==============================] - 1s 2ms/step - loss: 0.8144\n",
      "Epoch 141/250\n",
      "353/353 [==============================] - 1s 1ms/step - loss: 0.8417\n",
      "Epoch 142/250\n",
      "353/353 [==============================] - 1s 1ms/step - loss: 0.8239\n",
      "Epoch 143/250\n",
      "353/353 [==============================] - 1s 2ms/step - loss: 0.8004\n",
      "Epoch 144/250\n",
      "353/353 [==============================] - 1s 1ms/step - loss: 0.8440\n",
      "Epoch 145/250\n",
      "353/353 [==============================] - 1s 1ms/step - loss: 0.8048\n",
      "Epoch 146/250\n",
      "353/353 [==============================] - 1s 1ms/step - loss: 0.7812\n",
      "Epoch 147/250\n",
      "353/353 [==============================] - 1s 2ms/step - loss: 0.8727\n",
      "Epoch 148/250\n",
      "353/353 [==============================] - 0s 1ms/step - loss: 0.8273\n",
      "Epoch 149/250\n",
      "353/353 [==============================] - 1s 1ms/step - loss: 0.8173\n",
      "Epoch 150/250\n",
      "353/353 [==============================] - 1s 1ms/step - loss: 0.7996\n",
      "Epoch 151/250\n",
      "353/353 [==============================] - 1s 2ms/step - loss: 0.8402\n",
      "Epoch 152/250\n",
      "353/353 [==============================] - 0s 1ms/step - loss: 0.8361\n",
      "Epoch 153/250\n",
      "353/353 [==============================] - 1s 2ms/step - loss: 0.8252\n",
      "Epoch 154/250\n",
      "353/353 [==============================] - 1s 1ms/step - loss: 0.8086\n",
      "Epoch 155/250\n",
      "353/353 [==============================] - 1s 1ms/step - loss: 0.8223\n",
      "Epoch 156/250\n",
      "353/353 [==============================] - 1s 2ms/step - loss: 0.8175\n",
      "Epoch 157/250\n",
      "353/353 [==============================] - 1s 1ms/step - loss: 0.8091\n",
      "Epoch 158/250\n",
      "353/353 [==============================] - 1s 1ms/step - loss: 0.7974\n",
      "Epoch 159/250\n",
      "353/353 [==============================] - 1s 2ms/step - loss: 0.8155\n",
      "Epoch 160/250\n",
      "353/353 [==============================] - 1s 1ms/step - loss: 0.8283\n",
      "Epoch 161/250\n",
      "353/353 [==============================] - 1s 1ms/step - loss: 0.7998\n",
      "Epoch 162/250\n",
      "353/353 [==============================] - 1s 1ms/step - loss: 0.8043\n",
      "Epoch 163/250\n",
      "353/353 [==============================] - 0s 1ms/step - loss: 0.8305\n",
      "Epoch 164/250\n",
      "353/353 [==============================] - 1s 1ms/step - loss: 0.8061\n",
      "Epoch 165/250\n",
      "353/353 [==============================] - 1s 1ms/step - loss: 0.7846\n",
      "Epoch 166/250\n",
      "353/353 [==============================] - 0s 1ms/step - loss: 0.8094\n",
      "Epoch 167/250\n",
      "353/353 [==============================] - 1s 1ms/step - loss: 0.8315\n",
      "Epoch 168/250\n",
      "353/353 [==============================] - 1s 2ms/step - loss: 0.8540\n",
      "Epoch 169/250\n",
      "353/353 [==============================] - 1s 2ms/step - loss: 0.7953\n",
      "Epoch 170/250\n",
      "353/353 [==============================] - 0s 1ms/step - loss: 0.8133\n",
      "Epoch 171/250\n",
      "353/353 [==============================] - 1s 2ms/step - loss: 0.7891\n",
      "Epoch 172/250\n",
      "353/353 [==============================] - 1s 2ms/step - loss: 0.8094\n",
      "Epoch 173/250\n",
      "353/353 [==============================] - 1s 2ms/step - loss: 0.7994\n",
      "Epoch 174/250\n",
      "353/353 [==============================] - 1s 2ms/step - loss: 0.7790\n",
      "Epoch 175/250\n",
      "353/353 [==============================] - 1s 2ms/step - loss: 0.7635\n",
      "Epoch 176/250\n",
      "353/353 [==============================] - 1s 2ms/step - loss: 0.8059\n",
      "Epoch 177/250\n",
      "353/353 [==============================] - 1s 2ms/step - loss: 0.8161\n",
      "Epoch 178/250\n",
      "353/353 [==============================] - 0s 1ms/step - loss: 0.7719\n",
      "Epoch 179/250\n",
      "353/353 [==============================] - 1s 2ms/step - loss: 0.7619\n",
      "Epoch 180/250\n",
      "353/353 [==============================] - 1s 2ms/step - loss: 0.7991\n",
      "Epoch 181/250\n",
      "353/353 [==============================] - 1s 1ms/step - loss: 0.8252\n",
      "Epoch 182/250\n",
      "353/353 [==============================] - 1s 1ms/step - loss: 0.7811\n",
      "Epoch 183/250\n",
      "353/353 [==============================] - 1s 2ms/step - loss: 0.7877\n",
      "Epoch 184/250\n",
      "353/353 [==============================] - 1s 2ms/step - loss: 0.8007\n",
      "Epoch 185/250\n",
      "353/353 [==============================] - 0s 1ms/step - loss: 0.7802\n",
      "Epoch 186/250\n",
      "353/353 [==============================] - 1s 1ms/step - loss: 0.8063\n",
      "Epoch 187/250\n",
      "353/353 [==============================] - 1s 2ms/step - loss: 0.7676\n",
      "Epoch 188/250\n",
      "353/353 [==============================] - 0s 1ms/step - loss: 0.7799\n",
      "Epoch 189/250\n",
      "353/353 [==============================] - 1s 2ms/step - loss: 0.7917\n",
      "Epoch 190/250\n",
      "353/353 [==============================] - 1s 1ms/step - loss: 0.8142\n",
      "Epoch 191/250\n",
      "353/353 [==============================] - 1s 2ms/step - loss: 0.7956\n",
      "Epoch 192/250\n",
      "353/353 [==============================] - 1s 2ms/step - loss: 0.7989\n",
      "Epoch 193/250\n",
      "353/353 [==============================] - 0s 1ms/step - loss: 0.7620\n",
      "Epoch 194/250\n",
      "353/353 [==============================] - 1s 1ms/step - loss: 0.7984\n",
      "Epoch 195/250\n",
      "353/353 [==============================] - 1s 2ms/step - loss: 0.8432\n",
      "Epoch 196/250\n"
     ]
    },
    {
     "name": "stdout",
     "output_type": "stream",
     "text": [
      "353/353 [==============================] - 1s 1ms/step - loss: 0.7979\n",
      "Epoch 197/250\n",
      "353/353 [==============================] - 0s 1ms/step - loss: 0.7617\n",
      "Epoch 198/250\n",
      "353/353 [==============================] - 1s 2ms/step - loss: 0.7879\n",
      "Epoch 199/250\n",
      "353/353 [==============================] - 0s 1ms/step - loss: 0.7568\n",
      "Epoch 200/250\n",
      "353/353 [==============================] - 1s 1ms/step - loss: 0.7761\n",
      "Epoch 201/250\n",
      "353/353 [==============================] - 1s 2ms/step - loss: 0.8053\n",
      "Epoch 202/250\n",
      "353/353 [==============================] - 1s 2ms/step - loss: 0.7719\n",
      "Epoch 203/250\n",
      "353/353 [==============================] - 1s 2ms/step - loss: 0.7591\n",
      "Epoch 204/250\n",
      "353/353 [==============================] - 1s 2ms/step - loss: 0.7758A: 0s - l\n",
      "Epoch 205/250\n",
      "353/353 [==============================] - 1s 2ms/step - loss: 0.7754\n",
      "Epoch 206/250\n",
      "353/353 [==============================] - 1s 2ms/step - loss: 0.7638\n",
      "Epoch 207/250\n",
      "353/353 [==============================] - 1s 2ms/step - loss: 0.7886\n",
      "Epoch 208/250\n",
      "353/353 [==============================] - 1s 2ms/step - loss: 0.7721\n",
      "Epoch 209/250\n",
      "353/353 [==============================] - 1s 2ms/step - loss: 0.7996\n",
      "Epoch 210/250\n",
      "353/353 [==============================] - 1s 2ms/step - loss: 0.7902\n",
      "Epoch 211/250\n",
      "353/353 [==============================] - 1s 2ms/step - loss: 0.7680\n",
      "Epoch 212/250\n",
      "353/353 [==============================] - 1s 2ms/step - loss: 0.7918\n",
      "Epoch 213/250\n",
      "353/353 [==============================] - 1s 2ms/step - loss: 0.7933\n",
      "Epoch 214/250\n",
      "353/353 [==============================] - 1s 2ms/step - loss: 0.7477\n",
      "Epoch 215/250\n",
      "353/353 [==============================] - 1s 2ms/step - loss: 0.7707\n",
      "Epoch 216/250\n",
      "353/353 [==============================] - 1s 2ms/step - loss: 0.7891\n",
      "Epoch 217/250\n",
      "353/353 [==============================] - 1s 2ms/step - loss: 0.7686\n",
      "Epoch 218/250\n",
      "353/353 [==============================] - 1s 2ms/step - loss: 0.7871\n",
      "Epoch 219/250\n",
      "353/353 [==============================] - 1s 2ms/step - loss: 0.7665\n",
      "Epoch 220/250\n",
      "353/353 [==============================] - 1s 2ms/step - loss: 0.7619\n",
      "Epoch 221/250\n",
      "353/353 [==============================] - 1s 2ms/step - loss: 0.7837\n",
      "Epoch 222/250\n",
      "353/353 [==============================] - 1s 2ms/step - loss: 0.7707\n",
      "Epoch 223/250\n",
      "353/353 [==============================] - 1s 2ms/step - loss: 0.7631\n",
      "Epoch 224/250\n",
      "353/353 [==============================] - 1s 2ms/step - loss: 0.7828\n",
      "Epoch 225/250\n",
      "353/353 [==============================] - 1s 3ms/step - loss: 0.7873\n",
      "Epoch 226/250\n",
      "353/353 [==============================] - 1s 2ms/step - loss: 0.7695\n",
      "Epoch 227/250\n",
      "353/353 [==============================] - 1s 2ms/step - loss: 0.7639\n",
      "Epoch 228/250\n",
      "353/353 [==============================] - 1s 2ms/step - loss: 0.7616\n",
      "Epoch 229/250\n",
      "353/353 [==============================] - 1s 2ms/step - loss: 0.7469\n",
      "Epoch 230/250\n",
      "353/353 [==============================] - 1s 2ms/step - loss: 0.7902\n",
      "Epoch 231/250\n",
      "353/353 [==============================] - 1s 2ms/step - loss: 0.7926\n",
      "Epoch 232/250\n",
      "353/353 [==============================] - 1s 2ms/step - loss: 0.7513\n",
      "Epoch 233/250\n",
      "353/353 [==============================] - 1s 2ms/step - loss: 0.7769\n",
      "Epoch 234/250\n",
      "353/353 [==============================] - 1s 2ms/step - loss: 0.7564\n",
      "Epoch 235/250\n",
      "353/353 [==============================] - 1s 2ms/step - loss: 0.7534\n",
      "Epoch 236/250\n",
      "353/353 [==============================] - 1s 2ms/step - loss: 0.7699\n",
      "Epoch 237/250\n",
      "353/353 [==============================] - 1s 2ms/step - loss: 0.7586\n",
      "Epoch 238/250\n",
      "353/353 [==============================] - 1s 2ms/step - loss: 0.7665\n",
      "Epoch 239/250\n",
      "353/353 [==============================] - 1s 2ms/step - loss: 0.8061A: 0s - los\n",
      "Epoch 240/250\n",
      "353/353 [==============================] - 1s 2ms/step - loss: 0.7545\n",
      "Epoch 241/250\n",
      "353/353 [==============================] - 1s 2ms/step - loss: 0.7720\n",
      "Epoch 242/250\n",
      "353/353 [==============================] - 1s 3ms/step - loss: 0.7683A: 0s - loss:\n",
      "Epoch 243/250\n",
      "353/353 [==============================] - 1s 3ms/step - loss: 0.7696\n",
      "Epoch 244/250\n",
      "353/353 [==============================] - 1s 3ms/step - loss: 0.8038\n",
      "Epoch 245/250\n",
      "353/353 [==============================] - 1s 2ms/step - loss: 0.7733\n",
      "Epoch 246/250\n",
      "353/353 [==============================] - 1s 2ms/step - loss: 0.7433\n",
      "Epoch 247/250\n",
      "353/353 [==============================] - 1s 2ms/step - loss: 0.7715\n",
      "Epoch 248/250\n",
      "353/353 [==============================] - 1s 2ms/step - loss: 0.7948A: 0s - lo\n",
      "Epoch 249/250\n",
      "353/353 [==============================] - 1s 2ms/step - loss: 0.7610\n",
      "Epoch 250/250\n",
      "353/353 [==============================] - 1s 2ms/step - loss: 0.7752\n"
     ]
    },
    {
     "data": {
      "text/plain": [
       "<keras.callbacks.History at 0x1f8cdad70d0>"
      ]
     },
     "execution_count": 29,
     "metadata": {},
     "output_type": "execute_result"
    }
   ],
   "source": [
    "# Fit the model\n",
    "model.fit(x_train, y_train, epochs=250)"
   ]
  },
  {
   "cell_type": "code",
   "execution_count": 30,
   "metadata": {
    "ExecuteTime": {
     "end_time": "2021-11-20T11:53:25.305936Z",
     "start_time": "2021-11-20T11:53:24.287751Z"
    }
   },
   "outputs": [
    {
     "data": {
      "text/plain": [
       "<AxesSubplot:>"
      ]
     },
     "execution_count": 30,
     "metadata": {},
     "output_type": "execute_result"
    },
    {
     "data": {
      "image/png": "[encoded data removed]",
      "text/plain": [
       "<Figure size 432x288 with 1 Axes>"
      ]
     },
     "metadata": {
      "needs_background": "light"
     },
     "output_type": "display_data"
    }
   ],
   "source": [
    "%matplotlib inline\n",
    "import matplotlib as plot\n",
    "model_loss = pd.DataFrame(model.history.history)\n",
    "model_loss.plot()"
   ]
  },
  {
   "cell_type": "code",
   "execution_count": 31,
   "metadata": {
    "ExecuteTime": {
     "end_time": "2021-11-20T11:53:27.007789Z",
     "start_time": "2021-11-20T11:53:25.438479Z"
    }
   },
   "outputs": [
    {
     "data": {
      "text/plain": [
       "array([[133.12535],\n",
       "       [134.63101],\n",
       "       [111.73823],\n",
       "       ...,\n",
       "       [161.25688],\n",
       "       [105.08451],\n",
       "       [133.50995]], dtype=float32)"
      ]
     },
     "execution_count": 31,
     "metadata": {},
     "output_type": "execute_result"
    }
   ],
   "source": [
    "pred = model.predict(x_test)\n",
    "pred"
   ]
  },
  {
   "cell_type": "code",
   "execution_count": 32,
   "metadata": {
    "ExecuteTime": {
     "end_time": "2021-11-20T11:53:27.196269Z",
     "start_time": "2021-11-20T11:53:27.184302Z"
    }
   },
   "outputs": [],
   "source": [
    "pred = pred.ravel()"
   ]
  },
  {
   "cell_type": "code",
   "execution_count": 33,
   "metadata": {
    "ExecuteTime": {
     "end_time": "2021-11-20T11:53:28.682503Z",
     "start_time": "2021-11-20T11:53:27.295007Z"
    }
   },
   "outputs": [
    {
     "data": {
      "text/plain": [
       "1.1274309158325195"
      ]
     },
     "execution_count": 33,
     "metadata": {},
     "output_type": "execute_result"
    }
   ],
   "source": [
    "test_score = model.evaluate(x_test,y_test,verbose=0)\n",
    "test_score"
   ]
  },
  {
   "cell_type": "code",
   "execution_count": 34,
   "metadata": {
    "ExecuteTime": {
     "end_time": "2021-11-20T11:53:28.809390Z",
     "start_time": "2021-11-20T11:53:28.797390Z"
    }
   },
   "outputs": [],
   "source": [
    "from sklearn.metrics import mean_absolute_error,mean_squared_error"
   ]
  },
  {
   "cell_type": "code",
   "execution_count": 35,
   "metadata": {
    "ExecuteTime": {
     "end_time": "2021-11-20T11:53:28.967772Z",
     "start_time": "2021-11-20T11:53:28.940117Z"
    }
   },
   "outputs": [
    {
     "data": {
      "text/plain": [
       "0.8547414451761448"
      ]
     },
     "execution_count": 35,
     "metadata": {},
     "output_type": "execute_result"
    }
   ],
   "source": [
    "mean_absolute_error(pred,y_test)"
   ]
  },
  {
   "cell_type": "code",
   "execution_count": 36,
   "metadata": {
    "ExecuteTime": {
     "end_time": "2021-11-20T11:53:29.140342Z",
     "start_time": "2021-11-20T11:53:29.113379Z"
    }
   },
   "outputs": [
    {
     "data": {
      "text/plain": [
       "1.1274309155498003"
      ]
     },
     "execution_count": 36,
     "metadata": {},
     "output_type": "execute_result"
    }
   ],
   "source": [
    "mean_squared_error(pred,y_test)"
   ]
  },
  {
   "cell_type": "code",
   "execution_count": 37,
   "metadata": {
    "ExecuteTime": {
     "end_time": "2021-11-20T11:53:29.283081Z",
     "start_time": "2021-11-20T11:53:29.271114Z"
    }
   },
   "outputs": [],
   "source": [
    "import matplotlib.pyplot as plt"
   ]
  },
  {
   "cell_type": "code",
   "execution_count": 38,
   "metadata": {
    "ExecuteTime": {
     "end_time": "2021-11-20T11:53:30.395665Z",
     "start_time": "2021-11-20T11:53:29.427325Z"
    }
   },
   "outputs": [
    {
     "data": {
      "text/plain": [
       "<matplotlib.collections.PathCollection at 0x1f8cd90f7f0>"
      ]
     },
     "execution_count": 38,
     "metadata": {},
     "output_type": "execute_result"
    },
    {
     "data": {
      "image/png": "[encoded data removed]",
      "text/plain": [
       "<Figure size 432x288 with 1 Axes>"
      ]
     },
     "metadata": {
      "needs_background": "light"
     },
     "output_type": "display_data"
    }
   ],
   "source": [
    "plt.scatter(y_test,pred)"
   ]
  },
  {
   "cell_type": "code",
   "execution_count": null,
   "metadata": {},
   "outputs": [],
   "source": []
  }
 ],
 "metadata": {
  "kernelspec": {
   "display_name": "Python 3",
   "language": "python",
   "name": "python3"
  },
  "language_info": {
   "codemirror_mode": {
    "name": "ipython",
    "version": 3
   },
   "file_extension": ".py",
   "mimetype": "text/x-python",
   "name": "python",
   "nbconvert_exporter": "python",
   "pygments_lexer": "ipython3",
   "version": "3.8.5"
  },
  "varInspector": {
   "cols": {
    "lenName": 16,
    "lenType": 16,
    "lenVar": 40
   },
   "kernels_config": {
    "python": {
     "delete_cmd_postfix": "",
     "delete_cmd_prefix": "del ",
     "library": "var_list.py",
     "varRefreshCmd": "print(var_dic_list())"
    },
    "r": {
     "delete_cmd_postfix": ") ",
     "delete_cmd_prefix": "rm(",
     "library": "var_list.r",
     "varRefreshCmd": "cat(var_dic_list()) "
    }
   },
   "types_to_exclude": [
    "module",
    "function",
    "builtin_function_or_method",
    "instance",
    "_Feature"
   ],
   "window_display": false
  }
 },
 "nbformat": 4,
 "nbformat_minor": 4
}
